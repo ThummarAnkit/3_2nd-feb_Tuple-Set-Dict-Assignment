{
 "cells": [
  {
   "cell_type": "markdown",
   "id": "9a17a0d8",
   "metadata": {},
   "source": [
    "# Q1. What are the characteristics of the tuples? Is tuple immutable?\n",
    "\n",
    "Ans. Tuple items are ordered, unchangeable, and allow duplicate values.  \n",
    "        Tuple items are indexed, the first item has index [0] , the second item \n",
    "        has index [1] etc. \n",
    "        Yes, tuple is immutable.\n"
   ]
  },
  {
   "cell_type": "markdown",
   "id": "f3503290",
   "metadata": {},
   "source": [
    "# Q2. What are the two tuple methods in python? Give an example of each method. Give a reason why tuples have only two in-built methods as compared to Lists.\n",
    "\n",
    "Ans. In Python, tuples are immutables. Meaning, you cannot change items of a tuple once it is assigned. There are only two tuple methods count() and index() that a tuple object can call."
   ]
  },
  {
   "cell_type": "markdown",
   "id": "994582ef",
   "metadata": {},
   "source": [
    "### Examples : \n",
    "1. count() : Returns the number of times a specified value occurs in a tuple"
   ]
  },
  {
   "cell_type": "code",
   "execution_count": 2,
   "id": "bf949727",
   "metadata": {},
   "outputs": [
    {
     "name": "stdout",
     "output_type": "stream",
     "text": [
      "2\n"
     ]
    }
   ],
   "source": [
    "thistuple = (1, 3, 7, 8, 7, 5, 4, 6, 8, 5)\n",
    "x = thistuple.count(5)\n",
    "print(x)"
   ]
  },
  {
   "cell_type": "markdown",
   "id": "643f5b62",
   "metadata": {},
   "source": [
    "2. index() : Searches the tuple for a specified value and returns the position of where it was found"
   ]
  },
  {
   "cell_type": "code",
   "execution_count": 3,
   "id": "874a5cd8",
   "metadata": {},
   "outputs": [
    {
     "name": "stdout",
     "output_type": "stream",
     "text": [
      "3\n"
     ]
    }
   ],
   "source": [
    "thistuple = (1, 3, 7, 8, 7, 5, 4, 6, 8, 5)\n",
    "x = thistuple.index(8)\n",
    "print(x)"
   ]
  },
  {
   "cell_type": "markdown",
   "id": "4548afd2",
   "metadata": {},
   "source": [
    "# Q3. Which collection datatypes in python do not allow duplicate items? Write a code using a set to remove duplicates from the given list.    \n",
    "\n",
    "List = [1, 1, 1, 2, 1, 3, 1, 4, 2, 1, 2, 2, 2, 3, 2, 4, 3, 1, 3, 2, 3, 3, 3, 4, 4, 1, 4, 2, 4, 3, 4, 4]\n"
   ]
  },
  {
   "cell_type": "markdown",
   "id": "27b365de",
   "metadata": {},
   "source": [
    "## Ans :\n",
    "\n",
    "Sets datatypes in python do not allow duplicate items.\n",
    "\n",
    "### code using a set to remove duplicates from the given list : "
   ]
  },
  {
   "cell_type": "code",
   "execution_count": 5,
   "id": "9abbea12",
   "metadata": {},
   "outputs": [
    {
     "name": "stdout",
     "output_type": "stream",
     "text": [
      "list :  [1, 1, 1, 2, 1, 3, 1, 4, 2, 1, 2, 2, 2, 3, 2, 4, 3, 1, 3, 2, 3, 3, 3, 4, 4, 1, 4, 2, 4, 3, 4, 4]\n",
      "new list :  [1, 2, 3, 4]\n"
     ]
    }
   ],
   "source": [
    "List = [1, 1, 1, 2, 1, 3, 1, 4, 2, 1, 2, 2, 2, 3, 2, 4, 3, 1, 3, 2, 3, 3, 3, 4, 4, \n",
    "1, 4, 2, 4, 3, 4, 4]\n",
    "new_list = list(set(List))\n",
    "print(\"list : \",List)\n",
    "print(\"new list : \",new_list)"
   ]
  },
  {
   "cell_type": "markdown",
   "id": "4675526b",
   "metadata": {},
   "source": [
    "# Q4. Explain the difference between the union() and update() methods for a set. Give an example of each method.\n"
   ]
  },
  {
   "cell_type": "markdown",
   "id": "3bbe293f",
   "metadata": {},
   "source": [
    "Ans. update() adds all missing elements to the set on which it is called whereas set. union() creates a new set. Consequently, the return value of set.\n",
    "\n",
    "Here’s an example of the set.update() method:"
   ]
  },
  {
   "cell_type": "code",
   "execution_count": 6,
   "id": "648bd023",
   "metadata": {},
   "outputs": [
    {
     "name": "stdout",
     "output_type": "stream",
     "text": [
      "{1, 2, 3, 4, 5}\n"
     ]
    }
   ],
   "source": [
    "s = {1, 2, 3}\n",
    "s.update({4, 5})\n",
    "print(s)"
   ]
  },
  {
   "cell_type": "markdown",
   "id": "ba080762",
   "metadata": {},
   "source": [
    "Here’s an example of the set.union() method:"
   ]
  },
  {
   "cell_type": "code",
   "execution_count": 9,
   "id": "bbb6a368",
   "metadata": {},
   "outputs": [
    {
     "data": {
      "text/plain": [
       "{1, 2, 3, 4, 5}"
      ]
     },
     "execution_count": 9,
     "metadata": {},
     "output_type": "execute_result"
    }
   ],
   "source": [
    "s = {1, 2, 3}\n",
    "s.union({4, 5})"
   ]
  },
  {
   "cell_type": "markdown",
   "id": "ae697f78",
   "metadata": {},
   "source": [
    "# Q5. What is a dictionary? Give an example. Also, state whether a dictionary is ordered or unordered."
   ]
  },
  {
   "cell_type": "markdown",
   "id": "b617c761",
   "metadata": {},
   "source": [
    "Ans. Yes, we can create a nested dictionary. \n",
    "### Example : \n"
   ]
  },
  {
   "cell_type": "code",
   "execution_count": 10,
   "id": "a95021b2",
   "metadata": {},
   "outputs": [
    {
     "name": "stdout",
     "output_type": "stream",
     "text": [
      "{1: 'Geeks', 2: 'For', 3: {'A': 'Welcome', 'B': 'To', 'C': 'Geeks'}}\n"
     ]
    }
   ],
   "source": [
    "Dict = {1: 'Geeks', 2: 'For', 3: {'A' : 'Welcome', \n",
    "'B' : 'To', 'C' : 'Geeks'}}\n",
    "print(Dict)"
   ]
  },
  {
   "cell_type": "markdown",
   "id": "217d4e8f",
   "metadata": {},
   "source": [
    "# Q7. Using setdefault() method, create key named topics in the given dictionary and also add the value of the key as this list \n",
    "['Python', 'Machine Learning’, 'Deep Learning'].\n",
    "\n",
    "dict1 = {'language' : 'Python', 'course': 'Data Science Masters'}\n"
   ]
  },
  {
   "cell_type": "markdown",
   "id": "2e8537f9",
   "metadata": {},
   "source": [
    "# Q8. What are the three view objects in dictionaries? Use the three in-built methods in python to display these three view objects for the given dictionary.\n",
    "dict1 = {'Sport': 'Cricket' , 'Teams': ['India', 'Australia', 'England', 'South Africa', 'Sri Lanka', 'New Zealand']}\n",
    "\n"
   ]
  },
  {
   "cell_type": "markdown",
   "id": "823a7bfb",
   "metadata": {},
   "source": [
    "### Ans :\n",
    "The main view objects of dictionary in python are keys, values and items."
   ]
  },
  {
   "cell_type": "markdown",
   "id": "00b5bcc3",
   "metadata": {},
   "source": [
    "### 1. keys :"
   ]
  },
  {
   "cell_type": "code",
   "execution_count": 12,
   "id": "eb9655d2",
   "metadata": {},
   "outputs": [
    {
     "name": "stdout",
     "output_type": "stream",
     "text": [
      "dict_keys(['Sport', 'Teams'])\n"
     ]
    }
   ],
   "source": [
    "dict1 = {'Sport': 'Cricket' , 'Teams': ['India', 'Australia', 'England', 'South Africa', 'Sri Lanka', 'New Zealand']}\n",
    "print(dict1.keys())"
   ]
  },
  {
   "cell_type": "markdown",
   "id": "7fd88ffb",
   "metadata": {},
   "source": [
    "### 2. Values:"
   ]
  },
  {
   "cell_type": "code",
   "execution_count": 13,
   "id": "17f28cac",
   "metadata": {},
   "outputs": [
    {
     "name": "stdout",
     "output_type": "stream",
     "text": [
      "dict_values(['Cricket', ['India', 'Australia', 'England', 'South Africa', 'Sri Lanka', 'New Zealand']])\n"
     ]
    }
   ],
   "source": [
    "dict1 = {'Sport': 'Cricket' , 'Teams': ['India', 'Australia', 'England', 'South Africa', 'Sri Lanka', 'New Zealand']}\n",
    "print(dict1.values())"
   ]
  },
  {
   "cell_type": "markdown",
   "id": "2bfd91e2",
   "metadata": {},
   "source": [
    "### 3. Items:"
   ]
  },
  {
   "cell_type": "code",
   "execution_count": 14,
   "id": "cbc945ad",
   "metadata": {},
   "outputs": [
    {
     "name": "stdout",
     "output_type": "stream",
     "text": [
      "dict_items([('Sport', 'Cricket'), ('Teams', ['India', 'Australia', 'England', 'South Africa', 'Sri Lanka', 'New Zealand'])])\n"
     ]
    }
   ],
   "source": [
    "dict1 = {'Sport': 'Cricket' , 'Teams': ['India', 'Australia', 'England', 'South Africa', 'Sri Lanka', 'New Zealand']}\n",
    "print(dict1.items())"
   ]
  },
  {
   "cell_type": "code",
   "execution_count": null,
   "id": "02bd1d0d",
   "metadata": {},
   "outputs": [],
   "source": []
  }
 ],
 "metadata": {
  "kernelspec": {
   "display_name": "Python 3 (ipykernel)",
   "language": "python",
   "name": "python3"
  },
  "language_info": {
   "codemirror_mode": {
    "name": "ipython",
    "version": 3
   },
   "file_extension": ".py",
   "mimetype": "text/x-python",
   "name": "python",
   "nbconvert_exporter": "python",
   "pygments_lexer": "ipython3",
   "version": "3.9.7"
  }
 },
 "nbformat": 4,
 "nbformat_minor": 5
}
